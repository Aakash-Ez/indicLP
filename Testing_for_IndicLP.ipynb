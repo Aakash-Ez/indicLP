{
  "nbformat": 4,
  "nbformat_minor": 0,
  "metadata": {
    "colab": {
      "name": "Testing for IndicLP.ipynb",
      "provenance": [],
      "authorship_tag": "ABX9TyOoTUJyhj3FR0l0ydrd/wvx",
      "include_colab_link": true
    },
    "kernelspec": {
      "name": "python3",
      "display_name": "Python 3"
    },
    "language_info": {
      "name": "python"
    }
  },
  "cells": [
    {
      "cell_type": "markdown",
      "metadata": {
        "id": "view-in-github",
        "colab_type": "text"
      },
      "source": [
        "<a href=\"https://colab.research.google.com/github/Aakash-Ez/indicLP/blob/master/Testing_for_IndicLP.ipynb\" target=\"_parent\"><img src=\"https://colab.research.google.com/assets/colab-badge.svg\" alt=\"Open In Colab\"/></a>"
      ]
    },
    {
      "cell_type": "markdown",
      "metadata": {
        "id": "0AFjKSx54ub6"
      },
      "source": [
        "# Installing indciLP Library\n",
        "Run the below cell to install indicLP library from pypi package"
      ]
    },
    {
      "cell_type": "code",
      "metadata": {
        "colab": {
          "base_uri": "https://localhost:8080/"
        },
        "id": "ybr2--Lp4NWg",
        "outputId": "a7bc2ec9-c73c-43a0-a909-bc250e9577f5"
      },
      "source": [
        "!pip install indicLP"
      ],
      "execution_count": 1,
      "outputs": [
        {
          "output_type": "stream",
          "name": "stdout",
          "text": [
            "Collecting indicLP\n",
            "  Downloading indicLP-0.1.1.tar.gz (67.5 MB)\n",
            "\u001b[K     |████████████████████████████████| 67.5 MB 40 kB/s \n",
            "\u001b[?25hCollecting torch>=1.9.1\n",
            "  Downloading torch-1.10.0-cp37-cp37m-manylinux1_x86_64.whl (881.9 MB)\n",
            "\u001b[K     |██████████████████████████████▎ | 834.1 MB 1.3 MB/s eta 0:00:38tcmalloc: large alloc 1147494400 bytes == 0x55f9e1842000 @  0x7fab8ed45615 0x55f97c5754cc 0x55f97c65547a 0x55f97c5782ed 0x55f97c669e1d 0x55f97c5ebe99 0x55f97c5e69ee 0x55f97c579bda 0x55f97c5ebd00 0x55f97c5e69ee 0x55f97c579bda 0x55f97c5e8737 0x55f97c66ac66 0x55f97c5e7daf 0x55f97c66ac66 0x55f97c5e7daf 0x55f97c66ac66 0x55f97c5e7daf 0x55f97c57a039 0x55f97c5bd409 0x55f97c578c52 0x55f97c5ebc25 0x55f97c5e69ee 0x55f97c579bda 0x55f97c5e8737 0x55f97c5e69ee 0x55f97c579bda 0x55f97c5e7915 0x55f97c579afa 0x55f97c5e7c0d 0x55f97c5e69ee\n",
            "\u001b[K     |████████████████████████████████| 881.9 MB 19 kB/s \n",
            "\u001b[?25hCollecting torchtext>=0.10.1\n",
            "  Downloading torchtext-0.11.0-cp37-cp37m-manylinux1_x86_64.whl (8.0 MB)\n",
            "\u001b[K     |████████████████████████████████| 8.0 MB 28.3 MB/s \n",
            "\u001b[?25hCollecting gensim>=4.0.0\n",
            "  Downloading gensim-4.1.2-cp37-cp37m-manylinux_2_12_x86_64.manylinux2010_x86_64.whl (24.1 MB)\n",
            "\u001b[K     |████████████████████████████████| 24.1 MB 2.5 kB/s \n",
            "\u001b[?25hRequirement already satisfied: numpy>=1.19.1 in /usr/local/lib/python3.7/dist-packages (from indicLP) (1.19.5)\n",
            "Collecting indic_transliteration\n",
            "  Downloading indic_transliteration-2.3.2-py3-none-any.whl (119 kB)\n",
            "\u001b[K     |████████████████████████████████| 119 kB 32.9 MB/s \n",
            "\u001b[?25hRequirement already satisfied: snowballstemmer in /usr/local/lib/python3.7/dist-packages (from indicLP) (2.1.0)\n",
            "Requirement already satisfied: smart-open>=1.8.1 in /usr/local/lib/python3.7/dist-packages (from gensim>=4.0.0->indicLP) (5.2.1)\n",
            "Requirement already satisfied: scipy>=0.18.1 in /usr/local/lib/python3.7/dist-packages (from gensim>=4.0.0->indicLP) (1.4.1)\n",
            "Requirement already satisfied: typing-extensions in /usr/local/lib/python3.7/dist-packages (from torch>=1.9.1->indicLP) (3.7.4.3)\n",
            "Requirement already satisfied: tqdm in /usr/local/lib/python3.7/dist-packages (from torchtext>=0.10.1->indicLP) (4.62.3)\n",
            "Requirement already satisfied: requests in /usr/local/lib/python3.7/dist-packages (from torchtext>=0.10.1->indicLP) (2.23.0)\n",
            "Requirement already satisfied: toml in /usr/local/lib/python3.7/dist-packages (from indic_transliteration->indicLP) (0.10.2)\n",
            "Collecting backports.functools-lru-cache==1.6.4\n",
            "  Downloading backports.functools_lru_cache-1.6.4-py2.py3-none-any.whl (5.9 kB)\n",
            "Collecting selenium==3.141.0\n",
            "  Downloading selenium-3.141.0-py2.py3-none-any.whl (904 kB)\n",
            "\u001b[K     |████████████████████████████████| 904 kB 71.4 MB/s \n",
            "\u001b[?25hCollecting typer==0.3.2\n",
            "  Downloading typer-0.3.2-py3-none-any.whl (21 kB)\n",
            "Collecting regex==2020.10.11\n",
            "  Downloading regex-2020.10.11-cp37-cp37m-manylinux2010_x86_64.whl (662 kB)\n",
            "\u001b[K     |████████████████████████████████| 662 kB 49.1 MB/s \n",
            "\u001b[?25hRequirement already satisfied: urllib3 in /usr/local/lib/python3.7/dist-packages (from selenium==3.141.0->indic_transliteration->indicLP) (1.24.3)\n",
            "Requirement already satisfied: click<7.2.0,>=7.1.1 in /usr/local/lib/python3.7/dist-packages (from typer==0.3.2->indic_transliteration->indicLP) (7.1.2)\n",
            "Requirement already satisfied: idna<3,>=2.5 in /usr/local/lib/python3.7/dist-packages (from requests->torchtext>=0.10.1->indicLP) (2.10)\n",
            "Requirement already satisfied: chardet<4,>=3.0.2 in /usr/local/lib/python3.7/dist-packages (from requests->torchtext>=0.10.1->indicLP) (3.0.4)\n",
            "Requirement already satisfied: certifi>=2017.4.17 in /usr/local/lib/python3.7/dist-packages (from requests->torchtext>=0.10.1->indicLP) (2021.5.30)\n",
            "Building wheels for collected packages: indicLP\n",
            "  Building wheel for indicLP (setup.py) ... \u001b[?25l\u001b[?25hdone\n",
            "  Created wheel for indicLP: filename=indicLP-0.1.1-py3-none-any.whl size=67545344 sha256=4696997a61fe48de6131a515f749472149feb1c823978c6feb15821c24649464\n",
            "  Stored in directory: /root/.cache/pip/wheels/b9/fb/dc/2d15680a9431aa1fe8d4dd9999e124bcf60f758e604471ee39\n",
            "Successfully built indicLP\n",
            "Installing collected packages: typer, torch, selenium, regex, backports.functools-lru-cache, torchtext, indic-transliteration, gensim, indicLP\n",
            "  Attempting uninstall: torch\n",
            "    Found existing installation: torch 1.9.0+cu111\n",
            "    Uninstalling torch-1.9.0+cu111:\n",
            "      Successfully uninstalled torch-1.9.0+cu111\n",
            "  Attempting uninstall: regex\n",
            "    Found existing installation: regex 2019.12.20\n",
            "    Uninstalling regex-2019.12.20:\n",
            "      Successfully uninstalled regex-2019.12.20\n",
            "  Attempting uninstall: torchtext\n",
            "    Found existing installation: torchtext 0.10.0\n",
            "    Uninstalling torchtext-0.10.0:\n",
            "      Successfully uninstalled torchtext-0.10.0\n",
            "  Attempting uninstall: gensim\n",
            "    Found existing installation: gensim 3.6.0\n",
            "    Uninstalling gensim-3.6.0:\n",
            "      Successfully uninstalled gensim-3.6.0\n",
            "\u001b[31mERROR: pip's dependency resolver does not currently take into account all the packages that are installed. This behaviour is the source of the following dependency conflicts.\n",
            "torchvision 0.10.0+cu111 requires torch==1.9.0, but you have torch 1.10.0 which is incompatible.\u001b[0m\n",
            "Successfully installed backports.functools-lru-cache-1.6.4 gensim-4.1.2 indic-transliteration-2.3.2 indicLP-0.1.1 regex-2020.10.11 selenium-3.141.0 torch-1.10.0 torchtext-0.11.0 typer-0.3.2\n"
          ]
        }
      ]
    },
    {
      "cell_type": "markdown",
      "metadata": {
        "id": "KqgfJXoV5t74"
      },
      "source": [
        "# Getting Started with Preprocessing"
      ]
    },
    {
      "cell_type": "code",
      "metadata": {
        "id": "lzK7WeQN4SCc"
      },
      "source": [
        "from indicLP.preprocessing import TextNormalizer\n",
        "import re\n",
        "\n",
        "language = \"hi\"\n",
        "\n",
        "normalizerHindi = TextNormalizer(language)"
      ],
      "execution_count": 2,
      "outputs": []
    },
    {
      "cell_type": "code",
      "metadata": {
        "colab": {
          "base_uri": "https://localhost:8080/"
        },
        "id": "GLbbuVxE5bhA",
        "outputId": "7e9db8d1-6b76-413d-dbf5-bf794d57f2f8"
      },
      "source": [
        "text = \" नमस्ते! आप कैसे हैं? मुझे आपकी बहुत याद आयी।\"\n",
        "text = re.split('[।;?\\.!]',text)\n",
        "text = list(filter(None, text))\n",
        "\n",
        "print(text)\n",
        "# Output is [' नमस्ते', ' आप कैसे हैं', ' मुझे आपकी बहुत याद आयी']"
      ],
      "execution_count": 3,
      "outputs": [
        {
          "output_type": "stream",
          "name": "stdout",
          "text": [
            "[' नमस्ते', ' आप कैसे हैं', ' मुझे आपकी बहुत याद आयी']\n"
          ]
        }
      ]
    },
    {
      "cell_type": "code",
      "metadata": {
        "colab": {
          "base_uri": "https://localhost:8080/"
        },
        "id": "vgYOtUZ854u2",
        "outputId": "198f1725-064f-4317-aecc-284a25bd34d3"
      },
      "source": [
        "out = normalizerHindi.tokenizer(text, stem = True)\n",
        "print(out)\n",
        "# Output is [['▁नमस्त'], ['▁आप', '▁कैस', '▁हैं'], ['▁मुझ', '▁आपक', '▁बहुत', '▁याद', '▁आय']]"
      ],
      "execution_count": 4,
      "outputs": [
        {
          "output_type": "stream",
          "name": "stdout",
          "text": [
            "[['▁नमस्त'], ['▁आप', '▁कैस', '▁हैं'], ['▁मुझ', '▁आपक', '▁बहुत', '▁याद', '▁आय']]\n"
          ]
        }
      ]
    },
    {
      "cell_type": "code",
      "metadata": {
        "colab": {
          "base_uri": "https://localhost:8080/"
        },
        "id": "dj61GNty576U",
        "outputId": "0f8bb509-77c5-431d-eb97-c2e3cd1daea1"
      },
      "source": [
        "clean_out = []\n",
        "for i in out:\n",
        "    clean_out.append(normalizerHindi.remove_stop_words(i))\n",
        "print(clean_out)\n",
        "#Output is  [['▁नमस्त'], [], ['▁मुझ', '▁याद', '▁आय']]"
      ],
      "execution_count": 5,
      "outputs": [
        {
          "output_type": "stream",
          "name": "stdout",
          "text": [
            "[['▁नमस्त'], [], ['▁मुझ', '▁याद', '▁आय']]\n"
          ]
        }
      ]
    },
    {
      "cell_type": "markdown",
      "metadata": {
        "id": "2Wuz9I22AEJw"
      },
      "source": [
        "## Word Embedding"
      ]
    },
    {
      "cell_type": "code",
      "metadata": {
        "id": "WoGrFiUH58au"
      },
      "source": [
        "from indicLP.preprocessing import Embedding\n",
        "\n",
        "language = \"ta\"\n",
        "\n",
        "word = \"பள்ளி\"\n",
        "embedder = Embedding(lang=language)\n",
        "\n",
        "#print(embedder.get_vector(word))\n",
        "#Output is:\n",
        "# [-0.38245687 -0.43007085  0.75659156 -0.029661    0.42061085 -0.78045815\n",
        "# -0.28127694 -1.0599478  -0.1264891  -0.42795     0.39396504 -0.79804516\n",
        "#  0.03756442  0.24138477 -0.1513924   0.31122482  0.46426052 -1.2080644\n",
        "# -0.40227187  0.7438162  -0.4533786   0.40707597 -0.25478044  0.19656514\n",
        "#  0.5389387   0.2874967   0.43010154  0.13535404 -0.4051279   0.03866816 ..."
      ],
      "execution_count": 6,
      "outputs": []
    },
    {
      "cell_type": "code",
      "metadata": {
        "id": "m2KVh4hVBeqb",
        "colab": {
          "base_uri": "https://localhost:8080/"
        },
        "outputId": "fb9a7778-f465-4933-d45e-6bc152f2e38f"
      },
      "source": [
        "closest = embedder.get_closest(word)\n",
        "\n",
        "for i in closest:\n",
        "    (word, score) = i\n",
        "    print(word,round(score,2))\n",
        "\n",
        "#   பாடசாலை 0.87\n",
        "#   உயர்நில் 0.86\n",
        "#   கல்லூரி 0.85\n",
        "#   பாடசால் 0.84\n",
        "#   உயர்நிலைப்பள்ளி 0.81\n",
        "#   மேல்நில் 0.81\n",
        "#   பள்ளிக்கூடம் 0.79\n",
        "#   கல் 0.78\n",
        "#   மாண 0.77\n",
        "#   படிப்பு 0.77"
      ],
      "execution_count": 7,
      "outputs": [
        {
          "output_type": "stream",
          "name": "stdout",
          "text": [
            "பாடசாலை 0.87\n",
            "உயர்நில் 0.86\n",
            "கல்லூரி 0.85\n",
            "பாடசால் 0.84\n",
            "உயர்நிலைப்பள்ளி 0.81\n",
            "மேல்நில் 0.81\n",
            "பள்ளிக்கூடம் 0.79\n",
            "கல் 0.78\n",
            "மாண 0.77\n",
            "படிப்பு 0.77\n"
          ]
        }
      ]
    },
    {
      "cell_type": "markdown",
      "metadata": {
        "id": "vVl7i2UUE4R1"
      },
      "source": [
        "# Dataset and Sentence Iterator"
      ]
    },
    {
      "cell_type": "code",
      "metadata": {
        "id": "d7vdytS_uiDg"
      },
      "source": [
        "! cp kaggle.json ~/.kaggle/kaggle.json\n",
        "! chmod 600 /root/.kaggle/kaggle.json"
      ],
      "execution_count": 10,
      "outputs": []
    },
    {
      "cell_type": "code",
      "metadata": {
        "id": "m4EXC2w_udgq"
      },
      "source": [
        "from indicLP.datasets import Dataset\n",
        "import pandas as pd"
      ],
      "execution_count": 12,
      "outputs": []
    },
    {
      "cell_type": "code",
      "metadata": {
        "id": "K-Mi4LneCkks",
        "colab": {
          "base_uri": "https://localhost:8080/"
        },
        "outputId": "59652238-9160-4438-9439-38a15b24e7cf"
      },
      "source": [
        "dt = Dataset()\n",
        "data = dt.load_dataset(\"ponniyin-selvan\", True)\n",
        "if isinstance(data, pd.DataFrame):\n",
        "  print(data.head())\n",
        "else:\n",
        "  print(data)"
      ],
      "execution_count": 13,
      "outputs": [
        {
          "output_type": "stream",
          "name": "stdout",
          "text": [
            "['/content/datasets/ponniyin-selvan/ponniyin-selvan_combine.txt']\n"
          ]
        }
      ]
    },
    {
      "cell_type": "code",
      "metadata": {
        "colab": {
          "base_uri": "https://localhost:8080/"
        },
        "id": "PyKRddXlu2Ez",
        "outputId": "8f76a905-d94b-403c-8cb8-76c8ae965119"
      },
      "source": [
        "from indicLP.utils import SentenceIterator\n",
        "count = 0\n",
        "st = SentenceIterator(data[0], \"\\\\n\")\n",
        "for i in st:\n",
        "  print(i)\n",
        "  count = count + 1\n",
        "  if count == 5:\n",
        "    break"
      ],
      "execution_count": 15,
      "outputs": [
        {
          "output_type": "stream",
          "name": "stdout",
          "text": [
            "'அத்தியாயம் 50 - குந்தவையின் கலக்கம்\n",
            "செல்வத்தில் பிறந்து செல்வத்தில் வளர்ந்தவள் இளைய பிராட்டி குந்தவை தேவி. அழகில் ரதியையும், அறிவில் கலைமகளையும் அதிர்ஷ்டத்தில் திருமகளையும் ஒத்தவள். சுந்தர சோழ சக்கரவர்த்தி முதல் சோழ நாட்டின் சாதாரண குடிமக்கள் வரையில் அவளைப் போற்றினார்கள். அரண்மனையில் அவள் காலால் இட்டதைத் தலையினால் செய்ய எத்தனையோ பேர் காத்திருந்தார்கள். சிற்றரசர்கள் தங்கள் குலத்தில் வந்த அரசிளங் குமரிகளுக்குக் குந்தவை தேவியின் பணிப்பெண்ணாக இருக்கும் பாக்கியம் கிடைக்காதா என்று ஏங்கினார்கள். பாரத நாட்டில் அந்நாளில் பேரரசர்களாக விளங்கிய பலரின் பட்டத்துக்குரிய அரச குமாரர்கள் இளைய பிராட்டி குந்தவையின் கைப்பிடிக்கும் பாக்கியத்துக்குத் தவம் கிடந்தார்கள்.\n",
            "அத்தகைய சகல பாக்கியங்களும் வாய்க்கப் பெற்ற இளைய பிராட்டி அளவில்லாத சோகக் கடலில் மூழ்கி இருந்தாள். ஆதித்த கரிகாலனுக்கு அவள் சொல்லி அனுப்பிய எச்சரிக்கையெல்லாம் பயனிலதாய்ப் போயிற்று. சம்புவரையர் மாளிகைக்குப் போக வேண்டாமென்று அவனுக்கு அவள் அவசரச் செய்தி அனுப்பியிருந்தாள். அவளுடைய வார்த்தைக்கு எப்போதும் மிக்க மதிப்புக் கொடுக்கக்கூடிய அருமைத் தமையன் இந்த வார்த்தையைத் தட்டிவிட்டுக் கடம்பூர் அரண்மனைக்குப் போனான். அங்கே மர்மமான முறையில் அகால மரணமடைந்தான். நந்தினி, கரிகாலனுக்கும் தனக்கும் அருள்மொழிக்கும் சகோதரி என்றே அவள் நம்பியிருந்தாள். நந்தினி ஏதோ ஒரு காரணத்துக்காக அவன் மீது வஞ்சம் கொண்டிருந்தாள் என்பதையும் அறிந்திருந்தாள். நந்தினியின் கையினாலேயே கரிகாலன் மரணம் அடைய நேர்ந்திருந்தால் அதைக் காட்டிலும் சோழ குலத்துக்கு ஏற்படக் கூடிய அபகீர்த்தியும், பழியும் வேறெதுவும் இல்லை. கரிகாலன் மரணத்துக்குப் பிறகு நந்தினி என்ன ஆனாள் என்பது தெரியவில்லை.\n",
            "அருமைத் தமையனைப் பறிகொடுக்க நேர்ந்தது அவளுக்கு எல்லையில்லாத் துயரத்தை அளித்தது. உயிர் பிரிந்து இரண்டு நாளைக்குப் பிறகும் அவனுடைய திருமுகத்தில் குடிகொண்டிருந்த வீரக் களையை நினைத்து நினைத்து உருகினாள். ஆகா! என்னவெல்லாம் அந்த மகாவீரன் கனவு கண்டு கொண்டிருந்தான்? கரிகால் பெருவளத்தானைப் போல் இமயமலை வரையில் திக்விஜயம் செய்து அம்மாமலையின் சிகரத்தில் புலிக் கொடியை நாட்டப் போவதாகச் சொல்லிக் கொண்டிருந்தானே? அப்படிப்பட்டவனுடைய திருமேனி அரை நாழிகைப் பொழுதில் எரிந்து பிடி சாம்பலாகி விட்டது. சோழ நாட்டில் மண்ணோடு மண்ணாகக் கலந்துவிட்டது. அப்படிக் கலந்த மண்ணிலிருந்து வருங்காலத்தில் ஆயிரமாயிரம் வீராதி வீரர்கள் தோன்றுவார்கள். சோழ நாட்டிலிருந்து நாலா திசைகளிலும் செல்லுவார்கள். கடல் கடந்து தூர தூர தேசங்களுக்குச் செல்வார்கள். வீரப் போர்கள் புரிந்து சோழ சாம்ராஜ்யத்தின் எல்லையை விஸ்தரிப்பார்கள். போகுமிடங்களிலெல்லாம் வானளாவிய கோபுரங்களை உடைய கோவில்களை எழுப்புவார்கள். அவை சோழ நாட்டின் பெருமையை உலகுக்கு எடுத்து இயம்பிய வண்ணம் கம்பீரமாக நிற்கும். தமிழையும் தமிழ்க் கலைகளையும் சைவ வைஷ்ணவ சமயங்களையும் பரப்புவார்கள். மூவர் தேவாரப் பதிகங்களும் ஆழ்வார்களின் பாசுரங்களும் கடல் கடந்த நாடுகளிலெல்லாம் ஒலி செய்யும். “வெற்றி வேல்! வீர வேல்!” என்னும் வெற்றி முழக்கங்கள் கேட்கும்….\n",
            "இவையெல்லாம் வெறும் கனவு அல்ல. நடக்கக்கூடியவை தான். அருள்மொழிவர்மன் பிறந்த வேளையின் விசேஷம் பற்றிப் பெரியவர்களும் சோதிடர்களும் அனுபவம் வாய்ந்த தாய்மார்களும் சொல்லியிருப்பதெல்லாம் உண்மையானால், கரிகாலன் கனவு கண்டவையெல்லாம் அருள்மொழிவர்மன் மூலமாக நினைவாகக் கூடும். ஆனால், அதற்கு எத்தனை இடைஞ்சல்கள் குறுக்கே நிற்கின்றன? ஆகா! இச்சிற்றரசர்கள் தங்களுக்குள் பூசல் விளைவித்துக் கொண்டு என்ன விபரீதங்கள் விளைவிப்பார்களோ, தெரியவில்லை. மலையமானும், வேளானும் அருள்மொழிவர்மனைச் சிம்மாசனம் ஏற்றியே தீருவதென்று ஒரே பிடிவாதமாக இருக்கிறார்கள். பழுவேட்டரையர்களும் அவர்களுடைய நண்பர்களும் மதுராந்தகனுக்காகப் படை திரட்டி வருகிறார்கள். சக்கரவர்த்தியோ அடுத்தடுத்து நேர்ந்து விட்ட இரு பெரும் விபத்துக்களால் சோகக் கடலில் ஆழ்ந்திருக்கிறார். யாரிடமும் எதைப்பற்றியும் பேச மறுக்கிறார். இளம் பிராயத்தில் தாம் செய்த பாவத்தை எண்ணி எண்ணிப் பச்சாதாபப்பட்டுக் கொண்டிருக்கிறார். அவருக்குத் தேறுதல் மொழி சொல்லக் கூட யாருக்கும் தைரியமில்லை. அவருடைய செல்வக் குமாரியாகிய தனக்கே அவரை அணுக அச்சமாயிருக்கிறதென்றால் மற்றவர்களைப் பற்றிக் கேட்பானேன்!\n"
          ]
        }
      ]
    },
    {
      "cell_type": "code",
      "metadata": {
        "id": "VOyfVH5nvL7K"
      },
      "source": [
        ""
      ],
      "execution_count": null,
      "outputs": []
    }
  ]
}